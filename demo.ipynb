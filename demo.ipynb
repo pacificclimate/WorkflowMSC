{
 "cells": [
  {
   "cell_type": "code",
   "execution_count": 3,
   "metadata": {},
   "outputs": [
    {
     "name": "stdout",
     "output_type": "stream",
     "text": [
      "The autoreload extension is already loaded. To reload it, use:\n",
      "  %reload_ext autoreload\n"
     ]
    }
   ],
   "source": [
    "import datetime\n",
    "import time\n",
    "\n",
    "import pandas as pd\n",
    "import seaborn as sns\n",
    "import cartopy.crs as ccrs\n",
    "import cartopy.feature as cfeature\n",
    "import matplotlib.pyplot as plt\n",
    "from sqlalchemy import create_engine\n",
    "from sqlalchemy.orm import sessionmaker\n",
    "import pgpasslib\n",
    "\n",
    "from querymsc import WorkflowTools\n",
    "%load_ext autoreload\n",
    "%autoreload 2"
   ]
  },
  {
   "cell_type": "code",
   "execution_count": 4,
   "metadata": {},
   "outputs": [],
   "source": [
    "connection_string = \"postgresql+psycopg2://nannau@dbmsc.pcic.uvic.ca/msc\"\n",
    "engine = create_engine(connection_string)\n",
    "Session = sessionmaker(bind=engine)\n",
    "session = Session()"
   ]
  },
  {
   "cell_type": "code",
   "execution_count": 5,
   "metadata": {},
   "outputs": [
    {
     "name": "stdout",
     "output_type": "stream",
     "text": [
      "1.0 31.0 744.0\n"
     ]
    }
   ],
   "source": [
    "start_time = datetime.datetime(1990, 1, 1)\n",
    "end_time = datetime.datetime(1991, 1, 1)\n",
    "\n",
    "msc = WorkflowTools(start_time, end_time)"
   ]
  },
  {
   "cell_type": "code",
   "execution_count": 6,
   "metadata": {},
   "outputs": [],
   "source": [
    "annual_tot_precip = msc.query_annual_precip(session)\n",
    "annual_tot_rain = msc.query_annual_rain(session)\n",
    "query_temp = msc.query_design_temp_percentile(session)"
   ]
  },
  {
   "cell_type": "code",
   "execution_count": 10,
   "metadata": {},
   "outputs": [],
   "source": [
    "query = msc.query_design_temp_percentile(session)"
   ]
  },
  {
   "cell_type": "code",
   "execution_count": 11,
   "metadata": {},
   "outputs": [
    {
     "data": {
      "text/html": [
       "<div>\n",
       "<style scoped>\n",
       "    .dataframe tbody tr th:only-of-type {\n",
       "        vertical-align: middle;\n",
       "    }\n",
       "\n",
       "    .dataframe tbody tr th {\n",
       "        vertical-align: top;\n",
       "    }\n",
       "\n",
       "    .dataframe thead th {\n",
       "        text-align: right;\n",
       "    }\n",
       "</style>\n",
       "<table border=\"1\" class=\"dataframe\">\n",
       "  <thead>\n",
       "    <tr style=\"text-align: right;\">\n",
       "      <th></th>\n",
       "      <th>annual_precip</th>\n",
       "      <th>time_min</th>\n",
       "      <th>time_max</th>\n",
       "      <th>lat</th>\n",
       "      <th>lon</th>\n",
       "      <th>station_id</th>\n",
       "      <th>obs_count</th>\n",
       "      <th>completeness</th>\n",
       "    </tr>\n",
       "  </thead>\n",
       "  <tbody>\n",
       "    <tr>\n",
       "      <th>0</th>\n",
       "      <td>1052.0</td>\n",
       "      <td>1990-01-01</td>\n",
       "      <td>1990-12-31</td>\n",
       "      <td>41.7833</td>\n",
       "      <td>-82.6833</td>\n",
       "      <td>6063</td>\n",
       "      <td>365</td>\n",
       "      <td>1.0</td>\n",
       "    </tr>\n",
       "    <tr>\n",
       "      <th>1</th>\n",
       "      <td>1159.7</td>\n",
       "      <td>1990-01-01</td>\n",
       "      <td>1990-12-31</td>\n",
       "      <td>41.9500</td>\n",
       "      <td>-82.5167</td>\n",
       "      <td>6140</td>\n",
       "      <td>365</td>\n",
       "      <td>1.0</td>\n",
       "    </tr>\n",
       "    <tr>\n",
       "      <th>2</th>\n",
       "      <td>1061.4</td>\n",
       "      <td>1990-01-01</td>\n",
       "      <td>1990-12-31</td>\n",
       "      <td>42.0333</td>\n",
       "      <td>-82.9000</td>\n",
       "      <td>6036</td>\n",
       "      <td>365</td>\n",
       "      <td>1.0</td>\n",
       "    </tr>\n",
       "    <tr>\n",
       "      <th>3</th>\n",
       "      <td>1144.4</td>\n",
       "      <td>1990-01-01</td>\n",
       "      <td>1990-12-31</td>\n",
       "      <td>42.0431</td>\n",
       "      <td>-82.6739</td>\n",
       "      <td>6040</td>\n",
       "      <td>365</td>\n",
       "      <td>1.0</td>\n",
       "    </tr>\n",
       "    <tr>\n",
       "      <th>4</th>\n",
       "      <td>1189.5</td>\n",
       "      <td>1990-01-01</td>\n",
       "      <td>1990-12-31</td>\n",
       "      <td>42.1034</td>\n",
       "      <td>-83.0945</td>\n",
       "      <td>5992</td>\n",
       "      <td>365</td>\n",
       "      <td>1.0</td>\n",
       "    </tr>\n",
       "  </tbody>\n",
       "</table>\n",
       "</div>"
      ],
      "text/plain": [
       "   annual_precip   time_min   time_max      lat      lon  station_id  \\\n",
       "0         1052.0 1990-01-01 1990-12-31  41.7833 -82.6833        6063   \n",
       "1         1159.7 1990-01-01 1990-12-31  41.9500 -82.5167        6140   \n",
       "2         1061.4 1990-01-01 1990-12-31  42.0333 -82.9000        6036   \n",
       "3         1144.4 1990-01-01 1990-12-31  42.0431 -82.6739        6040   \n",
       "4         1189.5 1990-01-01 1990-12-31  42.1034 -83.0945        5992   \n",
       "\n",
       "   obs_count  completeness  \n",
       "0        365           1.0  \n",
       "1        365           1.0  \n",
       "2        365           1.0  \n",
       "3        365           1.0  \n",
       "4        365           1.0  "
      ]
     },
     "execution_count": 11,
     "metadata": {},
     "output_type": "execute_result"
    }
   ],
   "source": [
    "annual_tot_precip = msc.query_annual_precip(session)\n",
    "pd.read_sql(annual_tot_precip.statement, engine).head()"
   ]
  },
  {
   "cell_type": "code",
   "execution_count": 12,
   "metadata": {},
   "outputs": [],
   "source": [
    "annual_tot_rain = msc.query_annual_rain(session)\n",
    "pd.read_sql(annual_tot_rain.statement, engine).head()"
   ]
  },
  {
   "cell_type": "code",
   "execution_count": null,
   "metadata": {},
   "outputs": [],
   "source": [
    "query_temp = msc.query_design_temp_percentile(session)\n",
    "pd.read_sql(query_temp.statement, engine).head()"
   ]
  },
  {
   "cell_type": "code",
   "execution_count": null,
   "metadata": {},
   "outputs": [],
   "source": [
    "query_design_temp_dry = msc.query_design_temp_dry(session, month=7)\n",
    "pd.read_sql(query_design_temp_dry.statement, engine).head()"
   ]
  },
  {
   "cell_type": "code",
   "execution_count": null,
   "metadata": {},
   "outputs": [],
   "source": [
    "query_design_temp_wet = msc.query_design_temp_wet(session, month=7)\n",
    "pd.read_sql(query_design_temp_wet.statement, engine).head()"
   ]
  },
  {
   "cell_type": "code",
   "execution_count": 11,
   "metadata": {},
   "outputs": [],
   "source": [
    "df_vars = pd.read_sql(msc.query_variables(session).statement, engine)\n",
    "#df_vars[df_vars['net_var_name']=='127']\n",
    "#df_vars[(df_vars['net_var_name'].astype(int) > 124) & (df_vars['net_var_name'].astype(int) < 132)]\n",
    "#df_vars[df_vars['standard_name'].str.contains('temperature')]"
   ]
  },
  {
   "cell_type": "code",
   "execution_count": null,
   "metadata": {},
   "outputs": [],
   "source": []
  }
 ],
 "metadata": {
  "kernelspec": {
   "display_name": "Python 3",
   "language": "python",
   "name": "python3"
  },
  "language_info": {
   "codemirror_mode": {
    "name": "ipython",
    "version": 3
   },
   "file_extension": ".py",
   "mimetype": "text/x-python",
   "name": "python",
   "nbconvert_exporter": "python",
   "pygments_lexer": "ipython3",
   "version": "3.6.7"
  },
  "nteract": {
   "version": "nteract-on-jupyter@2.0.6"
  }
 },
 "nbformat": 4,
 "nbformat_minor": 2
}
