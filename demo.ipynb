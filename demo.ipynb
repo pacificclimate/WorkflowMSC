{
 "cells": [
  {
   "cell_type": "code",
   "execution_count": 1,
   "metadata": {},
   "outputs": [],
   "source": [
    "import datetime\n",
    "import time\n",
    "\n",
    "import pandas as pd\n",
    "import seaborn as sns\n",
    "\n",
    "from QueryMSC import workflow_tools"
   ]
  },
  {
   "cell_type": "code",
   "execution_count": 2,
   "metadata": {},
   "outputs": [],
   "source": [
    "connection_string = \"postgresql+psycopg2://nannau@dbmsc.pcic.uvic.ca/msc\""
   ]
  },
  {
   "cell_type": "code",
   "execution_count": 4,
   "metadata": {},
   "outputs": [],
   "source": [
    "start_time = datetime.datetime(2000, 1, 1)\n",
    "end_time = datetime.datetime(2001, 1, 10)\n",
    "\n",
    "msc = workflow_tools(connection_string, start_time, end_time)"
   ]
  },
  {
   "cell_type": "code",
   "execution_count": 5,
   "metadata": {},
   "outputs": [
    {
     "name": "stdout",
     "output_type": "stream",
     "text": [
      "Year interval: 1.0\n"
     ]
    }
   ],
   "source": [
    "precip = msc.annual_rain()"
   ]
  },
  {
   "cell_type": "code",
   "execution_count": 6,
   "metadata": {},
   "outputs": [
    {
     "data": {
      "text/html": [
       "<div>\n",
       "<style scoped>\n",
       "    .dataframe tbody tr th:only-of-type {\n",
       "        vertical-align: middle;\n",
       "    }\n",
       "\n",
       "    .dataframe tbody tr th {\n",
       "        vertical-align: top;\n",
       "    }\n",
       "\n",
       "    .dataframe thead th {\n",
       "        text-align: right;\n",
       "    }\n",
       "</style>\n",
       "<table border=\"1\" class=\"dataframe\">\n",
       "  <thead>\n",
       "    <tr style=\"text-align: right;\">\n",
       "      <th></th>\n",
       "      <th>sum</th>\n",
       "      <th>max_date</th>\n",
       "      <th>min_date</th>\n",
       "      <th>lat</th>\n",
       "      <th>lon</th>\n",
       "      <th>station_id</th>\n",
       "    </tr>\n",
       "  </thead>\n",
       "  <tbody>\n",
       "    <tr>\n",
       "      <th>0</th>\n",
       "      <td>1917.0</td>\n",
       "      <td>2001-01-10</td>\n",
       "      <td>2000-01-01</td>\n",
       "      <td>50.3332</td>\n",
       "      <td>-125.4460</td>\n",
       "      <td>176</td>\n",
       "    </tr>\n",
       "    <tr>\n",
       "      <th>1</th>\n",
       "      <td>377.8</td>\n",
       "      <td>2001-01-10</td>\n",
       "      <td>2000-01-01</td>\n",
       "      <td>50.4667</td>\n",
       "      <td>-106.0670</td>\n",
       "      <td>3953</td>\n",
       "    </tr>\n",
       "    <tr>\n",
       "      <th>2</th>\n",
       "      <td>697.4</td>\n",
       "      <td>2001-01-10</td>\n",
       "      <td>2000-01-01</td>\n",
       "      <td>48.5697</td>\n",
       "      <td>-81.3767</td>\n",
       "      <td>5468</td>\n",
       "    </tr>\n",
       "    <tr>\n",
       "      <th>3</th>\n",
       "      <td>856.3</td>\n",
       "      <td>2001-01-10</td>\n",
       "      <td>2000-01-01</td>\n",
       "      <td>49.7833</td>\n",
       "      <td>-97.1333</td>\n",
       "      <td>4831</td>\n",
       "    </tr>\n",
       "    <tr>\n",
       "      <th>4</th>\n",
       "      <td>342.5</td>\n",
       "      <td>2001-01-10</td>\n",
       "      <td>2000-01-01</td>\n",
       "      <td>58.7667</td>\n",
       "      <td>-111.1170</td>\n",
       "      <td>3610</td>\n",
       "    </tr>\n",
       "  </tbody>\n",
       "</table>\n",
       "</div>"
      ],
      "text/plain": [
       "      sum   max_date   min_date      lat       lon  station_id\n",
       "0  1917.0 2001-01-10 2000-01-01  50.3332 -125.4460         176\n",
       "1   377.8 2001-01-10 2000-01-01  50.4667 -106.0670        3953\n",
       "2   697.4 2001-01-10 2000-01-01  48.5697  -81.3767        5468\n",
       "3   856.3 2001-01-10 2000-01-01  49.7833  -97.1333        4831\n",
       "4   342.5 2001-01-10 2000-01-01  58.7667 -111.1170        3610"
      ]
     },
     "execution_count": 6,
     "metadata": {},
     "output_type": "execute_result"
    }
   ],
   "source": [
    "pd.read_sql(precip.statement, msc.engine).head()"
   ]
  },
  {
   "cell_type": "code",
   "execution_count": 7,
   "metadata": {},
   "outputs": [],
   "source": [
    "variables = msc.query_variables()"
   ]
  },
  {
   "cell_type": "code",
   "execution_count": 8,
   "metadata": {},
   "outputs": [
    {
     "data": {
      "text/html": [
       "<div>\n",
       "<style scoped>\n",
       "    .dataframe tbody tr th:only-of-type {\n",
       "        vertical-align: middle;\n",
       "    }\n",
       "\n",
       "    .dataframe tbody tr th {\n",
       "        vertical-align: top;\n",
       "    }\n",
       "\n",
       "    .dataframe thead th {\n",
       "        text-align: right;\n",
       "    }\n",
       "</style>\n",
       "<table border=\"1\" class=\"dataframe\">\n",
       "  <thead>\n",
       "    <tr style=\"text-align: right;\">\n",
       "      <th></th>\n",
       "      <th>vars_id</th>\n",
       "      <th>standard_name</th>\n",
       "      <th>long_description</th>\n",
       "      <th>unit</th>\n",
       "    </tr>\n",
       "  </thead>\n",
       "  <tbody>\n",
       "    <tr>\n",
       "      <th>0</th>\n",
       "      <td>1401</td>\n",
       "      <td></td>\n",
       "      <td>Hail</td>\n",
       "      <td>boolean</td>\n",
       "    </tr>\n",
       "    <tr>\n",
       "      <th>1</th>\n",
       "      <td>1424</td>\n",
       "      <td></td>\n",
       "      <td>Smoke or Haze</td>\n",
       "      <td>boolean</td>\n",
       "    </tr>\n",
       "    <tr>\n",
       "      <th>2</th>\n",
       "      <td>1291</td>\n",
       "      <td>cloud_base_altitude</td>\n",
       "      <td>Ceiling currently observed</td>\n",
       "      <td>30s of meters</td>\n",
       "    </tr>\n",
       "    <tr>\n",
       "      <th>3</th>\n",
       "      <td>1292</td>\n",
       "      <td>visibility_in_air</td>\n",
       "      <td>Visibility currently observed</td>\n",
       "      <td>0.1 km</td>\n",
       "    </tr>\n",
       "    <tr>\n",
       "      <th>4</th>\n",
       "      <td>1293</td>\n",
       "      <td>air_pressure_at_sea_level</td>\n",
       "      <td>Sea level pressure</td>\n",
       "      <td>0.01 kPa</td>\n",
       "    </tr>\n",
       "  </tbody>\n",
       "</table>\n",
       "</div>"
      ],
      "text/plain": [
       "   vars_id              standard_name               long_description  \\\n",
       "0     1401                                                      Hail   \n",
       "1     1424                                             Smoke or Haze   \n",
       "2     1291        cloud_base_altitude     Ceiling currently observed   \n",
       "3     1292          visibility_in_air  Visibility currently observed   \n",
       "4     1293  air_pressure_at_sea_level            Sea level pressure    \n",
       "\n",
       "            unit  \n",
       "0        boolean  \n",
       "1        boolean  \n",
       "2  30s of meters  \n",
       "3         0.1 km  \n",
       "4       0.01 kPa  "
      ]
     },
     "execution_count": 8,
     "metadata": {},
     "output_type": "execute_result"
    }
   ],
   "source": [
    "pd.read_sql(variables.statement, msc.engine).head()"
   ]
  },
  {
   "cell_type": "code",
   "execution_count": 9,
   "metadata": {},
   "outputs": [
    {
     "name": "stdout",
     "output_type": "stream",
     "text": [
      "SELECT percentile_cont(%(percentile_cont_1)s) WITHIN GROUP (ORDER BY crmp.obs_raw.datum ASC) AS temp, min(crmp.obs_raw.obs_time) AS time_min, max(crmp.obs_raw.obs_time) AS time_max, crmp.meta_history.lat AS crmp_meta_history_lat, crmp.meta_history.lon AS crmp_meta_history_lon, crmp.meta_history.station_id AS crmp_meta_history_station_id \n",
      "FROM crmp.meta_vars, crmp.obs_raw JOIN crmp.meta_history ON crmp.meta_history.history_id = crmp.obs_raw.history_id \n",
      "WHERE crmp.obs_raw.obs_time >= %(obs_time_1)s AND crmp.obs_raw.obs_time <= %(obs_time_2)s AND crmp.meta_vars.vars_id = %(vars_id_1)s AND EXTRACT(month FROM crmp.obs_raw.obs_time) = %(param_1)s GROUP BY crmp.meta_history.lat, crmp.meta_history.lon, crmp.meta_history.station_id\n"
     ]
    }
   ],
   "source": [
    "temp_25 = msc.design_temp_25()\n",
    "print(temp_25)"
   ]
  },
  {
   "cell_type": "code",
   "execution_count": 10,
   "metadata": {},
   "outputs": [
    {
     "name": "stdout",
     "output_type": "stream",
     "text": [
      "1.2525458335876465 minutes\n"
     ]
    }
   ],
   "source": [
    "start = time.time()\n",
    "df= pd.read_sql(temp_25.statement, msc.engine)\n",
    "end = time.time()\n",
    "print((end-start)/60., 'minutes')"
   ]
  },
  {
   "cell_type": "code",
   "execution_count": 11,
   "metadata": {},
   "outputs": [
    {
     "data": {
      "text/plain": [
       "<matplotlib.axes._subplots.AxesSubplot at 0x7f1f98c1feb8>"
      ]
     },
     "execution_count": 11,
     "metadata": {},
     "output_type": "execute_result"
    },
    {
     "data": {
      "image/png": "[encoded data removed]",
      "text/plain": [
       "<Figure size 432x288 with 1 Axes>"
      ]
     },
     "metadata": {
      "needs_background": "light"
     },
     "output_type": "display_data"
    }
   ],
   "source": [
    "sns.distplot(df['temp'])"
   ]
  },
  {
   "cell_type": "code",
   "execution_count": null,
   "metadata": {},
   "outputs": [],
   "source": []
  }
 ],
 "metadata": {
  "kernelspec": {
   "display_name": "Python 3",
   "language": "python",
   "name": "python3"
  },
  "language_info": {
   "codemirror_mode": {
    "name": "ipython",
    "version": 3
   },
   "file_extension": ".py",
   "mimetype": "text/x-python",
   "name": "python",
   "nbconvert_exporter": "python",
   "pygments_lexer": "ipython3",
   "version": "3.6.7"
  }
 },
 "nbformat": 4,
 "nbformat_minor": 2
}
