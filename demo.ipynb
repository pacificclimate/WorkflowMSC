{
 "cells": [
  {
   "cell_type": "markdown",
   "metadata": {},
   "source": [
    "# Query-MSC Demo"
   ]
  },
  {
   "cell_type": "code",
   "execution_count": 1,
   "metadata": {},
   "outputs": [],
   "source": [
    "import datetime\n",
    "\n",
    "from sqlalchemy import create_engine\n",
    "from sqlalchemy.orm import sessionmaker\n",
    "import pgpasslib\n",
    "import numpy as np\n",
    "import pandas as pd\n",
    "import matplotlib.pyplot as plt\n",
    "import seaborn as sns\n",
    "\n",
    "from query_helpers import count, total_days, total_years, days_in_month, hours_in_month, query_variables\n",
    "from query_temp import hdd\n",
    "from query_rates import query_rain_rate_15"
   ]
  },
  {
   "cell_type": "markdown",
   "metadata": {},
   "source": [
    "### Define the connection string"
   ]
  },
  {
   "cell_type": "code",
   "execution_count": 2,
   "metadata": {},
   "outputs": [],
   "source": [
    "connection_string = \"postgresql+psycopg2://user@dbmsc.pcic.uvic.ca/msc\""
   ]
  },
  {
   "cell_type": "markdown",
   "metadata": {},
   "source": [
    "## Create the database connection in sqlalchemy\n",
    "Using session objects"
   ]
  },
  {
   "cell_type": "code",
   "execution_count": 3,
   "metadata": {},
   "outputs": [],
   "source": [
    "engine = create_engine(connection_string)\n",
    "Session = sessionmaker(bind=engine)\n",
    "session = Session()"
   ]
  },
  {
   "cell_type": "markdown",
   "metadata": {},
   "source": [
    "### Exectue first query - look at different variables available"
   ]
  },
  {
   "cell_type": "code",
   "execution_count": 4,
   "metadata": {},
   "outputs": [
    {
     "data": {
      "text/html": [
       "<div>\n",
       "<style scoped>\n",
       "    .dataframe tbody tr th:only-of-type {\n",
       "        vertical-align: middle;\n",
       "    }\n",
       "\n",
       "    .dataframe tbody tr th {\n",
       "        vertical-align: top;\n",
       "    }\n",
       "\n",
       "    .dataframe thead th {\n",
       "        text-align: right;\n",
       "    }\n",
       "</style>\n",
       "<table border=\"1\" class=\"dataframe\">\n",
       "  <thead>\n",
       "    <tr style=\"text-align: right;\">\n",
       "      <th></th>\n",
       "      <th>vars_id</th>\n",
       "      <th>standard_name</th>\n",
       "      <th>long_description</th>\n",
       "      <th>unit</th>\n",
       "      <th>cell_method</th>\n",
       "      <th>net_var_name</th>\n",
       "    </tr>\n",
       "  </thead>\n",
       "  <tbody>\n",
       "    <tr>\n",
       "      <th>0</th>\n",
       "      <td>1401</td>\n",
       "      <td></td>\n",
       "      <td>Hail</td>\n",
       "      <td>boolean</td>\n",
       "      <td></td>\n",
       "      <td>16</td>\n",
       "    </tr>\n",
       "    <tr>\n",
       "      <th>1</th>\n",
       "      <td>1424</td>\n",
       "      <td></td>\n",
       "      <td>Smoke or Haze</td>\n",
       "      <td>boolean</td>\n",
       "      <td></td>\n",
       "      <td>18</td>\n",
       "    </tr>\n",
       "    <tr>\n",
       "      <th>2</th>\n",
       "      <td>1291</td>\n",
       "      <td>cloud_base_altitude</td>\n",
       "      <td>Ceiling currently observed</td>\n",
       "      <td>30s of meters</td>\n",
       "      <td>time: point</td>\n",
       "      <td>71</td>\n",
       "    </tr>\n",
       "    <tr>\n",
       "      <th>3</th>\n",
       "      <td>1292</td>\n",
       "      <td>visibility_in_air</td>\n",
       "      <td>Visibility currently observed</td>\n",
       "      <td>0.1 km</td>\n",
       "      <td>time: point</td>\n",
       "      <td>72</td>\n",
       "    </tr>\n",
       "    <tr>\n",
       "      <th>4</th>\n",
       "      <td>1293</td>\n",
       "      <td>air_pressure_at_sea_level</td>\n",
       "      <td>Sea level pressure</td>\n",
       "      <td>0.01 kPa</td>\n",
       "      <td>time: point</td>\n",
       "      <td>73</td>\n",
       "    </tr>\n",
       "  </tbody>\n",
       "</table>\n",
       "</div>"
      ],
      "text/plain": [
       "   vars_id              standard_name               long_description  \\\n",
       "0     1401                                                      Hail   \n",
       "1     1424                                             Smoke or Haze   \n",
       "2     1291        cloud_base_altitude     Ceiling currently observed   \n",
       "3     1292          visibility_in_air  Visibility currently observed   \n",
       "4     1293  air_pressure_at_sea_level            Sea level pressure    \n",
       "\n",
       "            unit  cell_method net_var_name  \n",
       "0        boolean                        16  \n",
       "1        boolean                        18  \n",
       "2  30s of meters  time: point           71  \n",
       "3         0.1 km  time: point           72  \n",
       "4       0.01 kPa  time: point           73  "
      ]
     },
     "execution_count": 4,
     "metadata": {},
     "output_type": "execute_result"
    }
   ],
   "source": [
    "df_q = pd.read_sql(query_variables(session).statement, engine)\n",
    "df_q.head()"
   ]
  },
  {
   "cell_type": "markdown",
   "metadata": {},
   "source": [
    "We can narrow it down further using Pandas, and get information on any variable that contains the word \"temperature\" in its description"
   ]
  },
  {
   "cell_type": "code",
   "execution_count": 5,
   "metadata": {},
   "outputs": [
    {
     "data": {
      "text/html": [
       "<div>\n",
       "<style scoped>\n",
       "    .dataframe tbody tr th:only-of-type {\n",
       "        vertical-align: middle;\n",
       "    }\n",
       "\n",
       "    .dataframe tbody tr th {\n",
       "        vertical-align: top;\n",
       "    }\n",
       "\n",
       "    .dataframe thead th {\n",
       "        text-align: right;\n",
       "    }\n",
       "</style>\n",
       "<table border=\"1\" class=\"dataframe\">\n",
       "  <thead>\n",
       "    <tr style=\"text-align: right;\">\n",
       "      <th></th>\n",
       "      <th>vars_id</th>\n",
       "      <th>standard_name</th>\n",
       "      <th>long_description</th>\n",
       "      <th>unit</th>\n",
       "      <th>cell_method</th>\n",
       "      <th>net_var_name</th>\n",
       "    </tr>\n",
       "  </thead>\n",
       "  <tbody>\n",
       "    <tr>\n",
       "      <th>5</th>\n",
       "      <td>1294</td>\n",
       "      <td>dew_point_temperature</td>\n",
       "      <td>Dew point temperature</td>\n",
       "      <td>0.1 Celsius</td>\n",
       "      <td>time: point</td>\n",
       "      <td>74</td>\n",
       "    </tr>\n",
       "    <tr>\n",
       "      <th>10</th>\n",
       "      <td>1300</td>\n",
       "      <td>wet_bulb_temperature</td>\n",
       "      <td>Wet bulb temperature</td>\n",
       "      <td>0.1 Celsius</td>\n",
       "      <td></td>\n",
       "      <td>79</td>\n",
       "    </tr>\n",
       "    <tr>\n",
       "      <th>103</th>\n",
       "      <td>1392</td>\n",
       "      <td>air_temperature</td>\n",
       "      <td>Daily max temperature</td>\n",
       "      <td>0.1 Celsius</td>\n",
       "      <td>time: maximum</td>\n",
       "      <td>1</td>\n",
       "    </tr>\n",
       "    <tr>\n",
       "      <th>104</th>\n",
       "      <td>1393</td>\n",
       "      <td>air_temperature</td>\n",
       "      <td>Daily min temperature</td>\n",
       "      <td>0.1 Celsius</td>\n",
       "      <td>time: minimum</td>\n",
       "      <td>2</td>\n",
       "    </tr>\n",
       "    <tr>\n",
       "      <th>105</th>\n",
       "      <td>1394</td>\n",
       "      <td>air_temperature</td>\n",
       "      <td>Daily mean temperature</td>\n",
       "      <td>0.1 Celsius</td>\n",
       "      <td>time: mean</td>\n",
       "      <td>3</td>\n",
       "    </tr>\n",
       "    <tr>\n",
       "      <th>142</th>\n",
       "      <td>1444</td>\n",
       "      <td>air_temperature</td>\n",
       "      <td>Mean max temperature</td>\n",
       "      <td>0.1 Celsius</td>\n",
       "      <td>time: mean</td>\n",
       "      <td>40</td>\n",
       "    </tr>\n",
       "    <tr>\n",
       "      <th>143</th>\n",
       "      <td>1445</td>\n",
       "      <td>air_temperature</td>\n",
       "      <td>Mean min temperature</td>\n",
       "      <td>0.1 Celsius</td>\n",
       "      <td>time: mean</td>\n",
       "      <td>41</td>\n",
       "    </tr>\n",
       "    <tr>\n",
       "      <th>144</th>\n",
       "      <td>1446</td>\n",
       "      <td>air_temperature</td>\n",
       "      <td>Mean monthly temperature</td>\n",
       "      <td>0.1 Celsius</td>\n",
       "      <td>time: mean</td>\n",
       "      <td>42</td>\n",
       "    </tr>\n",
       "    <tr>\n",
       "      <th>145</th>\n",
       "      <td>1447</td>\n",
       "      <td>air_temperature_anomaly</td>\n",
       "      <td>Mean monthly temperature difference from normal</td>\n",
       "      <td>0.1 Celsius</td>\n",
       "      <td></td>\n",
       "      <td>43</td>\n",
       "    </tr>\n",
       "    <tr>\n",
       "      <th>146</th>\n",
       "      <td>1448</td>\n",
       "      <td>air_temperature</td>\n",
       "      <td>Extreme max temperature</td>\n",
       "      <td>0.1 Celsius</td>\n",
       "      <td>time: maximum</td>\n",
       "      <td>44</td>\n",
       "    </tr>\n",
       "    <tr>\n",
       "      <th>147</th>\n",
       "      <td>1449</td>\n",
       "      <td></td>\n",
       "      <td>Date of extreme max temperature (earliest)</td>\n",
       "      <td>date</td>\n",
       "      <td></td>\n",
       "      <td>45</td>\n",
       "    </tr>\n",
       "    <tr>\n",
       "      <th>148</th>\n",
       "      <td>1450</td>\n",
       "      <td>air_temperature</td>\n",
       "      <td>Extreme min temperature</td>\n",
       "      <td>0.1 Celsius</td>\n",
       "      <td>time: minimum</td>\n",
       "      <td>46</td>\n",
       "    </tr>\n",
       "    <tr>\n",
       "      <th>149</th>\n",
       "      <td>1451</td>\n",
       "      <td></td>\n",
       "      <td>Date of extreme min temperature (earliest)</td>\n",
       "      <td>date</td>\n",
       "      <td></td>\n",
       "      <td>47</td>\n",
       "    </tr>\n",
       "    <tr>\n",
       "      <th>184</th>\n",
       "      <td>1486</td>\n",
       "      <td>soil_temperature</td>\n",
       "      <td>AM soil temperature at 1 cm</td>\n",
       "      <td>0.1 Celsius</td>\n",
       "      <td>time: point</td>\n",
       "      <td>134</td>\n",
       "    </tr>\n",
       "    <tr>\n",
       "      <th>185</th>\n",
       "      <td>1487</td>\n",
       "      <td>soil_temperature</td>\n",
       "      <td>AM soil temperature at 5 cm</td>\n",
       "      <td>0.1 Celsius</td>\n",
       "      <td>time: point</td>\n",
       "      <td>135</td>\n",
       "    </tr>\n",
       "    <tr>\n",
       "      <th>186</th>\n",
       "      <td>1488</td>\n",
       "      <td>soil_temperature</td>\n",
       "      <td>AM soil temperature at 10 cm</td>\n",
       "      <td>0.1 Celsius</td>\n",
       "      <td>time: point</td>\n",
       "      <td>136</td>\n",
       "    </tr>\n",
       "    <tr>\n",
       "      <th>187</th>\n",
       "      <td>1489</td>\n",
       "      <td>soil_temperature</td>\n",
       "      <td>AM soil temperature at 20 cm</td>\n",
       "      <td>0.1 Celsius</td>\n",
       "      <td>time: point</td>\n",
       "      <td>137</td>\n",
       "    </tr>\n",
       "    <tr>\n",
       "      <th>188</th>\n",
       "      <td>1490</td>\n",
       "      <td>soil_temperature</td>\n",
       "      <td>AM soil temperature at 50 cm</td>\n",
       "      <td>0.1 Celsius</td>\n",
       "      <td>time: point</td>\n",
       "      <td>138</td>\n",
       "    </tr>\n",
       "    <tr>\n",
       "      <th>189</th>\n",
       "      <td>1491</td>\n",
       "      <td>soil_temperature</td>\n",
       "      <td>AM soil temperature at 100 cm</td>\n",
       "      <td>0.1 Celsius</td>\n",
       "      <td>time: point</td>\n",
       "      <td>139</td>\n",
       "    </tr>\n",
       "    <tr>\n",
       "      <th>190</th>\n",
       "      <td>1492</td>\n",
       "      <td>soil_temperature</td>\n",
       "      <td>AM soil temperature at 150 cm</td>\n",
       "      <td>0.1 Celsius</td>\n",
       "      <td>time: point</td>\n",
       "      <td>140</td>\n",
       "    </tr>\n",
       "    <tr>\n",
       "      <th>191</th>\n",
       "      <td>1493</td>\n",
       "      <td>soil_temperature</td>\n",
       "      <td>AM soil temperature at 300 cm</td>\n",
       "      <td>0.1 Celsius</td>\n",
       "      <td>time: point</td>\n",
       "      <td>141</td>\n",
       "    </tr>\n",
       "    <tr>\n",
       "      <th>193</th>\n",
       "      <td>1495</td>\n",
       "      <td>soil_temperature</td>\n",
       "      <td>PM Soil temperatures at 1cm</td>\n",
       "      <td>0.1 Celsius</td>\n",
       "      <td>time: point</td>\n",
       "      <td>143</td>\n",
       "    </tr>\n",
       "    <tr>\n",
       "      <th>194</th>\n",
       "      <td>1496</td>\n",
       "      <td>soil_temperature</td>\n",
       "      <td>PM Soil temperatures at 5 cm</td>\n",
       "      <td>0.1 Celsius</td>\n",
       "      <td>time: point</td>\n",
       "      <td>144</td>\n",
       "    </tr>\n",
       "    <tr>\n",
       "      <th>195</th>\n",
       "      <td>1497</td>\n",
       "      <td>soil_temperature</td>\n",
       "      <td>PM Soil temperatures at 10 cm</td>\n",
       "      <td>0.1 Celsius</td>\n",
       "      <td>time: point</td>\n",
       "      <td>145</td>\n",
       "    </tr>\n",
       "    <tr>\n",
       "      <th>196</th>\n",
       "      <td>1498</td>\n",
       "      <td>soil_temperature</td>\n",
       "      <td>PM Soil temperatures at 20 cm</td>\n",
       "      <td>0.1 Celsius</td>\n",
       "      <td>time: point</td>\n",
       "      <td>146</td>\n",
       "    </tr>\n",
       "    <tr>\n",
       "      <th>197</th>\n",
       "      <td>1499</td>\n",
       "      <td>soil_temperature</td>\n",
       "      <td>PM Soil temperatures at 50 cm</td>\n",
       "      <td>0.1 Celsius</td>\n",
       "      <td>time: point</td>\n",
       "      <td>147</td>\n",
       "    </tr>\n",
       "    <tr>\n",
       "      <th>198</th>\n",
       "      <td>1500</td>\n",
       "      <td>soil_temperature</td>\n",
       "      <td>PM Soil temperatures at 100 cm</td>\n",
       "      <td>0.1 Celsius</td>\n",
       "      <td>time: point</td>\n",
       "      <td>148</td>\n",
       "    </tr>\n",
       "    <tr>\n",
       "      <th>199</th>\n",
       "      <td>1501</td>\n",
       "      <td>soil_temperature</td>\n",
       "      <td>PM Soil temperatures at 150 cm</td>\n",
       "      <td>0.1 Celsius</td>\n",
       "      <td>time: point</td>\n",
       "      <td>149</td>\n",
       "    </tr>\n",
       "    <tr>\n",
       "      <th>204</th>\n",
       "      <td>1509</td>\n",
       "      <td>sea_water_temperature</td>\n",
       "      <td>Water temperature</td>\n",
       "      <td>0.1 Celsius</td>\n",
       "      <td>time: point</td>\n",
       "      <td>153</td>\n",
       "    </tr>\n",
       "    <tr>\n",
       "      <th>205</th>\n",
       "      <td>1510</td>\n",
       "      <td>air_temperature</td>\n",
       "      <td>Air temperature</td>\n",
       "      <td>0.1 Celsius</td>\n",
       "      <td>time: point</td>\n",
       "      <td>154</td>\n",
       "    </tr>\n",
       "  </tbody>\n",
       "</table>\n",
       "</div>"
      ],
      "text/plain": [
       "     vars_id            standard_name  \\\n",
       "5       1294    dew_point_temperature   \n",
       "10      1300     wet_bulb_temperature   \n",
       "103     1392          air_temperature   \n",
       "104     1393          air_temperature   \n",
       "105     1394          air_temperature   \n",
       "142     1444          air_temperature   \n",
       "143     1445          air_temperature   \n",
       "144     1446          air_temperature   \n",
       "145     1447  air_temperature_anomaly   \n",
       "146     1448          air_temperature   \n",
       "147     1449                            \n",
       "148     1450          air_temperature   \n",
       "149     1451                            \n",
       "184     1486         soil_temperature   \n",
       "185     1487         soil_temperature   \n",
       "186     1488         soil_temperature   \n",
       "187     1489         soil_temperature   \n",
       "188     1490         soil_temperature   \n",
       "189     1491         soil_temperature   \n",
       "190     1492         soil_temperature   \n",
       "191     1493         soil_temperature   \n",
       "193     1495         soil_temperature   \n",
       "194     1496         soil_temperature   \n",
       "195     1497         soil_temperature   \n",
       "196     1498         soil_temperature   \n",
       "197     1499         soil_temperature   \n",
       "198     1500         soil_temperature   \n",
       "199     1501         soil_temperature   \n",
       "204     1509    sea_water_temperature   \n",
       "205     1510          air_temperature   \n",
       "\n",
       "                                    long_description         unit  \\\n",
       "5                             Dew point temperature   0.1 Celsius   \n",
       "10                              Wet bulb temperature  0.1 Celsius   \n",
       "103                            Daily max temperature  0.1 Celsius   \n",
       "104                            Daily min temperature  0.1 Celsius   \n",
       "105                           Daily mean temperature  0.1 Celsius   \n",
       "142                             Mean max temperature  0.1 Celsius   \n",
       "143                             Mean min temperature  0.1 Celsius   \n",
       "144                         Mean monthly temperature  0.1 Celsius   \n",
       "145  Mean monthly temperature difference from normal  0.1 Celsius   \n",
       "146                          Extreme max temperature  0.1 Celsius   \n",
       "147       Date of extreme max temperature (earliest)         date   \n",
       "148                          Extreme min temperature  0.1 Celsius   \n",
       "149       Date of extreme min temperature (earliest)         date   \n",
       "184                      AM soil temperature at 1 cm  0.1 Celsius   \n",
       "185                      AM soil temperature at 5 cm  0.1 Celsius   \n",
       "186                     AM soil temperature at 10 cm  0.1 Celsius   \n",
       "187                     AM soil temperature at 20 cm  0.1 Celsius   \n",
       "188                     AM soil temperature at 50 cm  0.1 Celsius   \n",
       "189                    AM soil temperature at 100 cm  0.1 Celsius   \n",
       "190                    AM soil temperature at 150 cm  0.1 Celsius   \n",
       "191                    AM soil temperature at 300 cm  0.1 Celsius   \n",
       "193                      PM Soil temperatures at 1cm  0.1 Celsius   \n",
       "194                     PM Soil temperatures at 5 cm  0.1 Celsius   \n",
       "195                    PM Soil temperatures at 10 cm  0.1 Celsius   \n",
       "196                    PM Soil temperatures at 20 cm  0.1 Celsius   \n",
       "197                    PM Soil temperatures at 50 cm  0.1 Celsius   \n",
       "198                   PM Soil temperatures at 100 cm  0.1 Celsius   \n",
       "199                   PM Soil temperatures at 150 cm  0.1 Celsius   \n",
       "204                                Water temperature  0.1 Celsius   \n",
       "205                                  Air temperature  0.1 Celsius   \n",
       "\n",
       "       cell_method net_var_name  \n",
       "5      time: point           74  \n",
       "10                           79  \n",
       "103  time: maximum            1  \n",
       "104  time: minimum            2  \n",
       "105     time: mean            3  \n",
       "142     time: mean           40  \n",
       "143     time: mean           41  \n",
       "144     time: mean           42  \n",
       "145                          43  \n",
       "146  time: maximum           44  \n",
       "147                          45  \n",
       "148  time: minimum           46  \n",
       "149                          47  \n",
       "184    time: point          134  \n",
       "185    time: point          135  \n",
       "186    time: point          136  \n",
       "187    time: point          137  \n",
       "188    time: point          138  \n",
       "189    time: point          139  \n",
       "190    time: point          140  \n",
       "191    time: point          141  \n",
       "193    time: point          143  \n",
       "194    time: point          144  \n",
       "195    time: point          145  \n",
       "196    time: point          146  \n",
       "197    time: point          147  \n",
       "198    time: point          148  \n",
       "199    time: point          149  \n",
       "204    time: point          153  \n",
       "205    time: point          154  "
      ]
     },
     "execution_count": 5,
     "metadata": {},
     "output_type": "execute_result"
    }
   ],
   "source": [
    "df_q[df_q['long_description'].str.contains('temperature')]"
   ]
  },
  {
   "cell_type": "markdown",
   "metadata": {},
   "source": [
    "Query helpers has some useful functions for querying design values, and makes use of Python's `datetime` module."
   ]
  },
  {
   "cell_type": "code",
   "execution_count": 6,
   "metadata": {},
   "outputs": [],
   "source": [
    "# Specify two dates:\n",
    "start_time = datetime.datetime(1991, 7, 1)\n",
    "end_time = datetime.datetime(2016, 7, 31)"
   ]
  },
  {
   "cell_type": "markdown",
   "metadata": {},
   "source": [
    "We can make use of these to get some handy information about the days of interest."
   ]
  },
  {
   "cell_type": "code",
   "execution_count": 7,
   "metadata": {},
   "outputs": [
    {
     "name": "stdout",
     "output_type": "stream",
     "text": [
      "Total days: 9162.0\n"
     ]
    }
   ],
   "source": [
    "print(\"Total days:\", total_days(start_time, end_time))"
   ]
  },
  {
   "cell_type": "code",
   "execution_count": 8,
   "metadata": {},
   "outputs": [
    {
     "name": "stdout",
     "output_type": "stream",
     "text": [
      "Total years: 25.0\n"
     ]
    }
   ],
   "source": [
    "print(\"Total years:\", total_years(start_time, end_time))"
   ]
  },
  {
   "cell_type": "code",
   "execution_count": 9,
   "metadata": {},
   "outputs": [
    {
     "name": "stdout",
     "output_type": "stream",
     "text": [
      "Total days in month over year range: 775.0\n"
     ]
    }
   ],
   "source": [
    "print(\"Total days in month over year range:\", days_in_month(start_time, end_time))"
   ]
  },
  {
   "cell_type": "code",
   "execution_count": 10,
   "metadata": {},
   "outputs": [
    {
     "name": "stdout",
     "output_type": "stream",
     "text": [
      "Total days in month: 31.0\n"
     ]
    }
   ],
   "source": [
    "print(\"Total days in month:\", days_in_month(start_time, end_time)/total_years(start_time, end_time))"
   ]
  },
  {
   "cell_type": "code",
   "execution_count": 11,
   "metadata": {},
   "outputs": [
    {
     "name": "stdout",
     "output_type": "stream",
     "text": [
      "Hours in month: 18600.0\n"
     ]
    }
   ],
   "source": [
    "print(\"Hours in month:\", hours_in_month(start_time, end_time))"
   ]
  },
  {
   "cell_type": "markdown",
   "metadata": {},
   "source": [
    "`query-msc` is still being developed, but these are some existing queries for design values...\n",
    "\n",
    "Using pandas, we can read a sqlalchemy query directly into a pandas dataframe and leverage some of the handy tools that pandas provides. This dataframe for the design values is much smaller than it would be if all of the data from the variable of interest was downloaded and then filtered locally.\n",
    "\n",
    "Here we are using the `hdd()` method provided by `query-msc`"
   ]
  },
  {
   "cell_type": "code",
   "execution_count": 12,
   "metadata": {},
   "outputs": [],
   "source": [
    "df = pd.read_sql(\n",
    "                hdd(start_time, end_time, session).statement,\n",
    "                engine\n",
    ")"
   ]
  },
  {
   "cell_type": "markdown",
   "metadata": {},
   "source": [
    "We can now inspect the design values queried by the tool, and look at their values/distributions:"
   ]
  },
  {
   "cell_type": "code",
   "execution_count": 13,
   "metadata": {},
   "outputs": [
    {
     "data": {
      "text/html": [
       "<div>\n",
       "<style scoped>\n",
       "    .dataframe tbody tr th:only-of-type {\n",
       "        vertical-align: middle;\n",
       "    }\n",
       "\n",
       "    .dataframe tbody tr th {\n",
       "        vertical-align: top;\n",
       "    }\n",
       "\n",
       "    .dataframe thead th {\n",
       "        text-align: right;\n",
       "    }\n",
       "</style>\n",
       "<table border=\"1\" class=\"dataframe\">\n",
       "  <thead>\n",
       "    <tr style=\"text-align: right;\">\n",
       "      <th></th>\n",
       "      <th>hdd</th>\n",
       "      <th>min_time</th>\n",
       "      <th>max_time</th>\n",
       "      <th>lat</th>\n",
       "      <th>lon</th>\n",
       "      <th>station_id</th>\n",
       "      <th>completeness</th>\n",
       "    </tr>\n",
       "  </thead>\n",
       "  <tbody>\n",
       "    <tr>\n",
       "      <th>0</th>\n",
       "      <td>347.916</td>\n",
       "      <td>1991-07-01</td>\n",
       "      <td>1994-09-30</td>\n",
       "      <td>41.7833</td>\n",
       "      <td>-82.6833</td>\n",
       "      <td>6063</td>\n",
       "      <td>0.128902</td>\n",
       "    </tr>\n",
       "    <tr>\n",
       "      <th>1</th>\n",
       "      <td>1345.332</td>\n",
       "      <td>1995-09-21</td>\n",
       "      <td>2014-06-27</td>\n",
       "      <td>41.8333</td>\n",
       "      <td>-82.4667</td>\n",
       "      <td>6103</td>\n",
       "      <td>0.467038</td>\n",
       "    </tr>\n",
       "    <tr>\n",
       "      <th>2</th>\n",
       "      <td>1505.420</td>\n",
       "      <td>1999-01-01</td>\n",
       "      <td>2016-07-30</td>\n",
       "      <td>41.9486</td>\n",
       "      <td>-82.5189</td>\n",
       "      <td>6143</td>\n",
       "      <td>0.482755</td>\n",
       "    </tr>\n",
       "    <tr>\n",
       "      <th>3</th>\n",
       "      <td>436.124</td>\n",
       "      <td>1991-07-01</td>\n",
       "      <td>1997-09-30</td>\n",
       "      <td>41.9500</td>\n",
       "      <td>-82.5167</td>\n",
       "      <td>6140</td>\n",
       "      <td>0.143855</td>\n",
       "    </tr>\n",
       "    <tr>\n",
       "      <th>4</th>\n",
       "      <td>92.068</td>\n",
       "      <td>1991-07-01</td>\n",
       "      <td>1993-06-30</td>\n",
       "      <td>42.0333</td>\n",
       "      <td>-82.9000</td>\n",
       "      <td>6036</td>\n",
       "      <td>0.031980</td>\n",
       "    </tr>\n",
       "  </tbody>\n",
       "</table>\n",
       "</div>"
      ],
      "text/plain": [
       "        hdd   min_time   max_time      lat      lon  station_id  completeness\n",
       "0   347.916 1991-07-01 1994-09-30  41.7833 -82.6833        6063      0.128902\n",
       "1  1345.332 1995-09-21 2014-06-27  41.8333 -82.4667        6103      0.467038\n",
       "2  1505.420 1999-01-01 2016-07-30  41.9486 -82.5189        6143      0.482755\n",
       "3   436.124 1991-07-01 1997-09-30  41.9500 -82.5167        6140      0.143855\n",
       "4    92.068 1991-07-01 1993-06-30  42.0333 -82.9000        6036      0.031980"
      ]
     },
     "execution_count": 13,
     "metadata": {},
     "output_type": "execute_result"
    }
   ],
   "source": [
    "#show the first 5\n",
    "df.head()"
   ]
  },
  {
   "cell_type": "code",
   "execution_count": 16,
   "metadata": {},
   "outputs": [
    {
     "data": {
      "text/plain": [
       "<matplotlib.axes._subplots.AxesSubplot at 0x7fc49fe8eb70>"
      ]
     },
     "execution_count": 16,
     "metadata": {},
     "output_type": "execute_result"
    },
    {
     "data": {
      "image/png": "[encoded data removed]",
      "text/plain": [
       "<Figure size 432x288 with 1 Axes>"
      ]
     },
     "metadata": {
      "needs_background": "light"
     },
     "output_type": "display_data"
    }
   ],
   "source": [
    "sns.distplot(df['hdd'], kde=False, color='r')"
   ]
  },
  {
   "cell_type": "markdown",
   "metadata": {},
   "source": [
    "We can also look at the density distribution of stations across Canada by using seaborn's `joinplot`. It shows the density of stations with contours, as well as the histogram along each axis for latitude or longitude. "
   ]
  },
  {
   "cell_type": "code",
   "execution_count": 17,
   "metadata": {},
   "outputs": [
    {
     "data": {
      "image/png": "[encoded data removed]",
      "text/plain": [
       "<Figure size 432x432 with 3 Axes>"
      ]
     },
     "metadata": {
      "needs_background": "light"
     },
     "output_type": "display_data"
    }
   ],
   "source": [
    "g = sns.jointplot(\"lon\", \"lat\", data=df,\n",
    "                  kind=\"kde\", space=0, color=\"r\")"
   ]
  },
  {
   "cell_type": "code",
   "execution_count": null,
   "metadata": {},
   "outputs": [],
   "source": []
  }
 ],
 "metadata": {
  "kernelspec": {
   "display_name": "Python 3",
   "language": "python",
   "name": "python3"
  },
  "language_info": {
   "codemirror_mode": {
    "name": "ipython",
    "version": 3
   },
   "file_extension": ".py",
   "mimetype": "text/x-python",
   "name": "python",
   "nbconvert_exporter": "python",
   "pygments_lexer": "ipython3",
   "version": "3.6.8"
  }
 },
 "nbformat": 4,
 "nbformat_minor": 4
}
