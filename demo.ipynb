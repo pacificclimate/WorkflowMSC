{
 "cells": [
  {
   "cell_type": "code",
   "execution_count": 15,
   "metadata": {},
   "outputs": [],
   "source": [
    "import datetime\n",
    "import time\n",
    "\n",
    "import pandas as pd\n",
    "import seaborn as sns\n",
    "import cartopy.crs as ccrs\n",
    "import cartopy.feature as cfeature\n",
    "import matplotlib.pyplot as plt\n",
    "from sqlalchemy import create_engine\n",
    "from sqlalchemy.orm import sessionmaker\n",
    "import pgpasslib\n",
    "\n",
    "from querymsc import WorkflowTools"
   ]
  },
  {
   "cell_type": "code",
   "execution_count": 2,
   "metadata": {},
   "outputs": [],
   "source": [
    "connection_string = \"postgresql+psycopg2://nannau@dbmsc.pcic.uvic.ca/msc\""
   ]
  },
  {
   "cell_type": "code",
   "execution_count": 16,
   "metadata": {},
   "outputs": [],
   "source": [
    "connection_string = \"postgresql+psycopg2://nannau@dbmsc.pcic.uvic.ca/msc\"\n",
    "engine = create_engine(connection_string)\n",
    "Session = sessionmaker(bind=engine)\n",
    "session = Session()"
   ]
  },
  {
   "cell_type": "code",
   "execution_count": 17,
   "metadata": {},
   "outputs": [],
   "source": [
    "start_time = datetime.datetime(1990, 1, 1)\n",
    "end_time = datetime.datetime(2000, 1, 1)\n",
    "\n",
    "msc = workflow_tools(start_time, end_time, month=1)"
   ]
  },
  {
   "cell_type": "code",
   "execution_count": 19,
   "metadata": {},
   "outputs": [],
   "source": [
    "hdd = msc.deg_day_below_18_query(session)"
   ]
  },
  {
   "cell_type": "code",
   "execution_count": 20,
   "metadata": {},
   "outputs": [
    {
     "name": "stdout",
     "output_type": "stream",
     "text": [
      "0.6444256544113159 minutes 38.665539264678955 seconds\n"
     ]
    }
   ],
   "source": [
    "start = time.time()\n",
    "df = pd.read_sql(hdd.statement, engine)\n",
    "end = time.time()\n",
    "print((end-start)/60., 'minutes', (end-start), 'seconds')"
   ]
  },
  {
   "cell_type": "code",
   "execution_count": 21,
   "metadata": {},
   "outputs": [
    {
     "data": {
      "text/html": [
       "<div>\n",
       "<style scoped>\n",
       "    .dataframe tbody tr th:only-of-type {\n",
       "        vertical-align: middle;\n",
       "    }\n",
       "\n",
       "    .dataframe tbody tr th {\n",
       "        vertical-align: top;\n",
       "    }\n",
       "\n",
       "    .dataframe thead th {\n",
       "        text-align: right;\n",
       "    }\n",
       "</style>\n",
       "<table border=\"1\" class=\"dataframe\">\n",
       "  <thead>\n",
       "    <tr style=\"text-align: right;\">\n",
       "      <th></th>\n",
       "      <th>hdd</th>\n",
       "      <th>min_date</th>\n",
       "      <th>max_date</th>\n",
       "      <th>sum_1</th>\n",
       "      <th>lat</th>\n",
       "      <th>lon</th>\n",
       "      <th>station_id</th>\n",
       "    </tr>\n",
       "  </thead>\n",
       "  <tbody>\n",
       "    <tr>\n",
       "      <th>0</th>\n",
       "      <td>3116.26</td>\n",
       "      <td>1990-01-01</td>\n",
       "      <td>2000-01-01</td>\n",
       "      <td>55525.0</td>\n",
       "      <td>50.3332</td>\n",
       "      <td>-125.4460</td>\n",
       "      <td>176</td>\n",
       "    </tr>\n",
       "    <tr>\n",
       "      <th>1</th>\n",
       "      <td>5399.89</td>\n",
       "      <td>1990-01-01</td>\n",
       "      <td>2000-01-01</td>\n",
       "      <td>46063.0</td>\n",
       "      <td>48.5697</td>\n",
       "      <td>-81.3767</td>\n",
       "      <td>5468</td>\n",
       "    </tr>\n",
       "    <tr>\n",
       "      <th>2</th>\n",
       "      <td>6623.72</td>\n",
       "      <td>1990-01-01</td>\n",
       "      <td>2000-01-01</td>\n",
       "      <td>48701.0</td>\n",
       "      <td>58.7667</td>\n",
       "      <td>-111.1170</td>\n",
       "      <td>3610</td>\n",
       "    </tr>\n",
       "    <tr>\n",
       "      <th>3</th>\n",
       "      <td>5687.91</td>\n",
       "      <td>1990-01-01</td>\n",
       "      <td>2000-01-01</td>\n",
       "      <td>43608.0</td>\n",
       "      <td>58.6214</td>\n",
       "      <td>-117.1650</td>\n",
       "      <td>3640</td>\n",
       "    </tr>\n",
       "    <tr>\n",
       "      <th>4</th>\n",
       "      <td>4587.14</td>\n",
       "      <td>1990-01-01</td>\n",
       "      <td>2000-01-01</td>\n",
       "      <td>51378.0</td>\n",
       "      <td>49.6316</td>\n",
       "      <td>-115.9620</td>\n",
       "      <td>1398</td>\n",
       "    </tr>\n",
       "  </tbody>\n",
       "</table>\n",
       "</div>"
      ],
      "text/plain": [
       "       hdd   min_date   max_date    sum_1      lat       lon  station_id\n",
       "0  3116.26 1990-01-01 2000-01-01  55525.0  50.3332 -125.4460         176\n",
       "1  5399.89 1990-01-01 2000-01-01  46063.0  48.5697  -81.3767        5468\n",
       "2  6623.72 1990-01-01 2000-01-01  48701.0  58.7667 -111.1170        3610\n",
       "3  5687.91 1990-01-01 2000-01-01  43608.0  58.6214 -117.1650        3640\n",
       "4  4587.14 1990-01-01 2000-01-01  51378.0  49.6316 -115.9620        1398"
      ]
     },
     "execution_count": 21,
     "metadata": {},
     "output_type": "execute_result"
    }
   ],
   "source": [
    "df.head()"
   ]
  },
  {
   "cell_type": "code",
   "execution_count": null,
   "metadata": {},
   "outputs": [],
   "source": []
  }
 ],
 "metadata": {
  "kernelspec": {
   "display_name": "Python 3",
   "language": "python",
   "name": "python3"
  },
  "language_info": {
   "codemirror_mode": {
    "name": "ipython",
    "version": 3
   },
   "file_extension": ".py",
   "mimetype": "text/x-python",
   "name": "python",
   "nbconvert_exporter": "python",
   "pygments_lexer": "ipython3",
   "version": "3.6.7"
  }
 },
 "nbformat": 4,
 "nbformat_minor": 2
}
